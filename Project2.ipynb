{
 "cells": [
  {
   "cell_type": "code",
   "execution_count": null,
   "id": "6f8372b9",
   "metadata": {},
   "outputs": [],
   "source": [
    "import numpy as np\n",
    "import pandas as pd"
   ]
  },
  {
   "cell_type": "markdown",
   "id": "8e5700b3",
   "metadata": {},
   "source": [
    "Awa Konate - IS362 / Project 2\n",
    "\n",
    "I'm using the 2010-2014 lists compiled by Interpol for the Most Wanted fugitives."
   ]
  },
  {
   "cell_type": "code",
   "execution_count": null,
   "id": "a8625e02",
   "metadata": {},
   "outputs": [],
   "source": [
    "fugs_data = pd.read_csv('Fugitives.csv')\n",
    "Fugitives = fugs_data.copy()\n",
    "Fugitives.head()"
   ]
  },
  {
   "cell_type": "code",
   "execution_count": null,
   "id": "927d30ae",
   "metadata": {},
   "outputs": [],
   "source": [
    "Fugitive\tNationality\tWanted by\tWanted for\tDetails of reason wanted for\tCountry believed to be in / Country of capture\tDate of Birth\tCurrent Age (approx.)\tSex\tStatus\tDetails\tYear of Interpol operation\tSource\tInterpol Red Notice Profile\tImage\n",
    "0\tViktoryia TSUNIK\tBelarus\tBelarus\tTheft, Fraud\tTheft by abuse of power\tAngola, Europe, Russia, Ukraine\t1961.0\t53.0\tFemale\tFree\tFounder of the \"Tsunik\" company in Vitebsk, Be...\t2012\twww.interpol.int/Media/Files/Crime-areas/Fugit...\thttp://www.interpol.int/notice/search/wanted/2...\thttp://www.interpol.int/var/interpol/cache/ws/...\n",
    "1\tAdriano GIACOBONE\tItaly\tItaly\tKidnapping, Possession of firearms and/or expl...\tKidnapping, illegal detention and carrying of ...\tArgentina, France, Morocco, Paraguay, Spain\t1957.0\t57.0\tMale\tFree\tAmong a series of court judgments, GIACOBONE h...\t2014\twww.interpol.int/Media/Files/Crime-areas/Fugit...\thttp://www.interpol.int/notice/search/wanted/1...\thttp://www.interpol.int/var/interpol/cache/ws/...\n",
    "2\tSudiman SUNOTO\tIndonesia\tIndonesia\tIllegal Logging, Environmental Crimes\tIllegal logging\tAsia\t1962.0\t52.0\tMale\tFree\tOn 11 November 2006, the Indonesian Criminal I...\t2014\twww.interpol.int/Media/Files/Crime-areas/Fugit...\thttp://www.interpol.int/notice/search/wanted/2...\thttp://www.interpol.int/var/interpol/cache/ws/...\n",
    "3\tDavid Macdonald CARROL\tCanada\tCanada\tMurder, Attempted Murder, Drug Crimes\tMurder, Conspiracy to murder, drug trafficking...\tAustralia, Brazil, Europe, Mexico, New Zealand...\t1952.0\t62.0\tMale\tFree\tCARROL is a member of the Quebec Nomads Chapte...\t2012, 2010\twww.interpol.int/Media/Files/Crime-areas/Fugit...\thttp://www.interpol.int/notice/search/wanted/1...\thttp://www.interpol.int/var/interpol/cache/ws/...\n",
    "4\tJason HOLLAND\tUnited Kingdom, South Africa\tSouth Africa\tFraud\tFraud\tAustralia, United Kingdom, The Netherlands\t1967.0\t47.0\tMale\tFree\tIn 2007 HOLLAND was employed as a Financial D...\t2010\twww.interpol.int/Media/Files/Crime-areas/Fugit...\thttp://www.interpol.int/notice/search/wanted/2...\thttp://www.interpol.int/var/interpol/cache/ws/..."
   ]
  },
  {
   "cell_type": "markdown",
   "id": "d59b46de",
   "metadata": {},
   "source": [
    "How many female fugitives in the world?"
   ]
  },
  {
   "cell_type": "code",
   "execution_count": null,
   "id": "d8dcf0ff",
   "metadata": {},
   "outputs": [],
   "source": [
    "fugs_data = Fugitives.groupby(['Sex'])['Nationality'].count()\n",
    "print(fugs_data)"
   ]
  },
  {
   "cell_type": "markdown",
   "id": "09fa3010",
   "metadata": {},
   "source": [
    "Sex\n",
    "Female     3\n",
    "Male      92\n",
    "Name: Nationality, dtype: int64\n",
    "The Number of fugitives by country"
   ]
  },
  {
   "cell_type": "code",
   "execution_count": null,
   "id": "b4d1c535",
   "metadata": {},
   "outputs": [],
   "source": [
    "fugs_data = Fugitives.groupby(['Nationality'])['Nationality'].count()\n",
    "print(fugs_data)"
   ]
  },
  {
   "cell_type": "markdown",
   "id": "19e30d77",
   "metadata": {},
   "source": [
    "Nationality\n",
    "Albania                         3\n",
    "Argentina                       2\n",
    "Australia                       1\n",
    "Austria                         1\n",
    "Bangladesh                      2\n",
    "Belarus                         1\n",
    "Belize                          1\n",
    "Brazil                          2\n",
    "Canada                          3\n",
    "Chile                           1\n",
    "Colombia                        3\n",
    "Croatia                         1\n",
    "Czech Republic                  3\n",
    "Dominican Republic              1\n",
    "El Salvador                     2\n",
    "Estonia                         1\n",
    "Finland                         1\n",
    "Georgia                         2\n",
    "Greece                          1\n",
    "Honduras                        1\n",
    "Hungary                         2\n",
    "Indonesia                       1\n",
    "Iraq                            1\n",
    "Ireland                         1\n",
    "Italy                           1\n",
    "Kenya                           1\n",
    "Lithuania                       1\n",
    "Mexico                          3\n",
    "Montenegro                      3\n",
    "Morocco                         1\n",
    "Morocco, Finland                1\n",
    "Nicaragua                       1\n",
    "Pakistan                        1\n",
    "Paraguay                        1\n",
    "Peru                            2\n",
    "Poland                          4\n",
    "Romania                         4\n",
    "Russia                          1\n",
    "Russia, Germany                 1\n",
    "Slovakia                        2\n",
    "Somalia                         1\n",
    "South Africa                    1\n",
    "Spain                           1\n",
    "Swaziland, South Africa         1\n",
    "Sweden                          2\n",
    "The Netherlands                 6\n",
    "Ukraine                         1\n",
    "United Kingdom                  5\n",
    "United Kingdom, South Africa    1\n",
    "United States                   7\n",
    "United States, Ireland          1\n",
    "Uruguay                         1\n",
    "Zambia                          1\n",
    "Name: Nationality, dtype: int64\n",
    "\n",
    "\n",
    "Fugitives by Region:"
   ]
  },
  {
   "cell_type": "code",
   "execution_count": null,
   "id": "ab2780de",
   "metadata": {},
   "outputs": [],
   "source": [
    "reg = pd.read_csv('Regions.csv')\n",
    "reg"
   ]
  },
  {
   "cell_type": "code",
   "execution_count": null,
   "id": "3753bbfc",
   "metadata": {},
   "outputs": [],
   "source": [
    "Region\tNational Fugitives\tWanted Fugitives\tPossible Hosted Fugitives / Captured Fugitives\tCoordinates\n",
    "0\tAsia\t8\t5\t8\tN46.2830,E86.6700\n",
    "1\tCentral America\t9\t7\t23\tN17.4000,W91.0000\n",
    "2\tEurope\t50\t50\t34\tN45.0000,E90.0000\n",
    "3\tNorth America\t11\t15\t19\tN48.1667,W100.1667\n",
    "4\tNorthern Africa\t2\t0\t3\tN28.381735,E12.216797\n",
    "5\tOceania\t1\t1\t2\tS30.0000,E140.0000\n",
    "6\tSouth America\t12\t11\t20\tS13.0000,W59.4000\n",
    "7\tSouthern Africa\t5\t4\t5\tS24.647017,E24.125977\n",
    "8\tSub Saharan Africa\t2\t3\t5\tN5.528511,E23.686523"
   ]
  },
  {
   "cell_type": "code",
   "execution_count": null,
   "id": "16bd748b",
   "metadata": {},
   "outputs": [],
   "source": [
    "Oceania had the least number of fugitives and Europe had the highest number of fugitives:"
   ]
  },
  {
   "cell_type": "code",
   "execution_count": null,
   "id": "383af287",
   "metadata": {},
   "outputs": [],
   "source": [
    "reg = reg.iloc[:6,:3]\n",
    "reg.max()"
   ]
  },
  {
   "cell_type": "code",
   "execution_count": null,
   "id": "34249ed9",
   "metadata": {},
   "outputs": [],
   "source": [
    "Region                Oceania\n",
    "National Fugitives         50\n",
    "Wanted Fugitives           50\n",
    "dtype: object\n",
    "Total of fugitives by country"
   ]
  },
  {
   "cell_type": "code",
   "execution_count": null,
   "id": "91b1c4a0",
   "metadata": {},
   "outputs": [],
   "source": [
    "cnt = pd.read_csv('Countries.csv')\n",
    "cnt"
   ]
  },
  {
   "cell_type": "code",
   "execution_count": null,
   "id": "116be69e",
   "metadata": {},
   "outputs": [],
   "source": [
    "\tCountry\tNational Fugitives\tWanted Fugitives\tPossible Hosted Fugitives / Captured Fugitives\tRegion\tFlag\n",
    "0\tAlbania\t3\t3\t0\tEurope\thttp://www.crwflags.com/fotw/images/a/al.gif\n",
    "1\tAngola\t0\t0\t1\tNorthern Africa\thttp://www.crwflags.com/fotw/images/a/ao.gif\n",
    "2\tArgentina\t2\t2\t1\tSouth America\thttp://www.crwflags.com/fotw/images/a/ar.gif\n",
    "3\tAustralia\t1\t1\t2\tOceania\thttp://www.crwflags.com/fotw/images/a/au.gif\n",
    "4\tAustria\t1\t1\t0\tEurope\thttp://www.crwflags.com/fotw/images/a/at.gif\n",
    "...\t...\t...\t...\t...\t...\t...\n",
    "73\tUnited States\t8\t11\t6\tNorth America\thttp://www.crwflags.com/fotw/images/u/us.gif\n",
    "74\tUruguay\t1\t1\t1\tSouth America\thttp://www.crwflags.com/fotw/images/u/uy.gif\n",
    "75\tVenezuela\t0\t1\t0\tSouth America\thttp://www.crwflags.com/fotw/images/v/ve.gif\n",
    "76\tZambia\t1\t0\t2\tSouthern Africa\thttp://www.crwflags.com/fotw/images/z/zm.gif\n",
    "77\tZimbabwe\t0\t0\t2\tSouthern Africa\thttp://www.crwflags.com/fotw/images/z/zw.gif"
   ]
  },
  {
   "cell_type": "code",
   "execution_count": null,
   "id": "21c3fcbe",
   "metadata": {},
   "outputs": [],
   "source": [
    "78 rows × 6 columns\n",
    "\n",
    "The United States is the country that had the highest wanted fugitives in 2014. A total of 11 wanted fugitives."
   ]
  },
  {
   "cell_type": "code",
   "execution_count": null,
   "id": "2360cf9a",
   "metadata": {},
   "outputs": [],
   "source": [
    "cnt['Wanted Fugitives'].max()\n"
   ]
  },
  {
   "cell_type": "code",
   "execution_count": null,
   "id": "376e6790",
   "metadata": {},
   "outputs": [],
   "source": [
    "11"
   ]
  },
  {
   "cell_type": "code",
   "execution_count": null,
   "id": "610a8844",
   "metadata": {},
   "outputs": [],
   "source": []
  }
 ],
 "metadata": {
  "kernelspec": {
   "display_name": "Python 3 (ipykernel)",
   "language": "python",
   "name": "python3"
  },
  "language_info": {
   "codemirror_mode": {
    "name": "ipython",
    "version": 3
   },
   "file_extension": ".py",
   "mimetype": "text/x-python",
   "name": "python",
   "nbconvert_exporter": "python",
   "pygments_lexer": "ipython3",
   "version": "3.9.7"
  }
 },
 "nbformat": 4,
 "nbformat_minor": 5
}
